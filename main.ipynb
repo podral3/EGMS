{
 "cells": [
  {
   "cell_type": "code",
   "execution_count": 2,
   "metadata": {},
   "outputs": [
    {
     "name": "stdout",
     "output_type": "stream",
     "text": [
      "[0, 529, 1, 2, 530, 531, 3, 532, 5, 4]\n",
      "[0, 529, 1, 2, 530, 531, 3, 532, 5, 4]\n",
      "[0, 529, 1, 2, 530, 531, 3, 532, 5, 4]\n",
      "[0, 529, 1, 2, 530, 531, 3, 532, 5, 4]\n",
      "[0, 529, 1, 2, 530, 531, 3, 532, 5, 4]\n",
      "[0, 529, 1, 2, 530, 531, 3, 532, 5, 4]\n",
      "[0, 529, 1, 2, 530, 531, 3, 532, 5, 4]\n",
      "[0, 529, 1, 2, 530, 531, 3, 532, 5, 4]\n",
      "[0, 529, 1, 2, 530, 531, 3, 532, 5, 4]\n",
      "[0, 529, 1, 2, 530, 531, 3, 532, 5, 4]\n",
      "[0, 529, 1, 2, 530, 531, 3, 532, 5, 4]\n",
      "[0, 529, 1, 2, 530, 531, 3, 532, 5, 4]\n",
      "[0, 529, 1, 2, 530, 531, 3, 532, 5, 4]\n",
      "[0, 529, 1, 2, 530, 531, 3, 532, 5, 4]\n",
      "[0, 529, 1, 2, 530, 531, 3, 532, 5, 4]\n",
      "[0, 529, 1, 2, 530, 531, 3, 532, 5, 4]\n",
      "[0, 529, 1, 2, 530, 531, 3, 532, 5, 4]\n",
      "[0, 529, 1, 2, 530, 531, 3, 532, 5, 4]\n",
      "[0, 529, 1, 2, 530, 531, 3, 532, 5, 4]\n",
      "[0, 529, 1, 2, 530, 531, 3, 532, 5, 4]\n",
      "[0, 529, 1, 2, 530, 531, 3, 532, 5, 4]\n",
      "[0, 529, 1, 2, 530, 531, 3, 532, 5, 4]\n",
      "[0, 529, 1, 2, 530, 531, 3, 532, 5, 4]\n",
      "[0, 529, 1, 2, 530, 531, 3, 532, 5, 4]\n",
      "[0, 529, 1, 2, 530, 531, 3, 532, 5, 4]\n",
      "[0, 529, 1, 2, 530, 531, 3, 532, 5, 4]\n",
      "[0, 529, 1, 2, 530, 531, 3, 532, 5, 4]\n",
      "[0, 529, 1, 2, 530, 531, 3, 532, 5, 4]\n",
      "[0, 529, 1, 2, 530, 531, 3, 532, 5, 4]\n",
      "[0, 529, 1, 2, 530, 531, 3, 532, 5, 4]\n",
      "[0, 529, 1, 2, 530, 531, 3, 532, 5, 4]\n",
      "[0, 529, 1, 2, 530, 531, 3, 532, 5, 4]\n",
      "[0, 529, 1, 2, 530, 531, 3, 532, 5, 4]\n",
      "[0, 529, 1, 2, 530, 531, 3, 532, 5, 4]\n",
      "[0, 529, 1, 2, 530, 531, 3, 532, 5, 4]\n"
     ]
    },
    {
     "ename": "KeyboardInterrupt",
     "evalue": "",
     "output_type": "error",
     "traceback": [
      "\u001b[0;31m---------------------------------------------------------------------------\u001b[0m",
      "\u001b[0;31mKeyboardInterrupt\u001b[0m                         Traceback (most recent call last)",
      "Cell \u001b[0;32mIn[2], line 15\u001b[0m\n\u001b[1;32m     13\u001b[0m \u001b[38;5;28;01mfor\u001b[39;00m idx, asc \u001b[38;5;129;01min\u001b[39;00m asc_df\u001b[38;5;241m.\u001b[39miterrows():\n\u001b[1;32m     14\u001b[0m     asc_tuple \u001b[38;5;241m=\u001b[39m (asc[\u001b[38;5;124m'\u001b[39m\u001b[38;5;124mlatitude\u001b[39m\u001b[38;5;124m'\u001b[39m], asc[\u001b[38;5;124m'\u001b[39m\u001b[38;5;124mlongitude\u001b[39m\u001b[38;5;124m'\u001b[39m])\n\u001b[0;32m---> 15\u001b[0m     \u001b[38;5;28mprint\u001b[39m(\u001b[43mnearest_neighbour\u001b[49m\u001b[43m(\u001b[49m\u001b[43masc_tuple\u001b[49m\u001b[43m,\u001b[49m\u001b[43m \u001b[49m\u001b[43mdsc_df\u001b[49m\u001b[43m[\u001b[49m\u001b[43m[\u001b[49m\u001b[38;5;124;43m'\u001b[39;49m\u001b[38;5;124;43mpid\u001b[39;49m\u001b[38;5;124;43m'\u001b[39;49m\u001b[43m,\u001b[49m\u001b[43m \u001b[49m\u001b[38;5;124;43m'\u001b[39;49m\u001b[38;5;124;43mlatitude\u001b[39;49m\u001b[38;5;124;43m'\u001b[39;49m\u001b[43m,\u001b[49m\u001b[43m \u001b[49m\u001b[38;5;124;43m'\u001b[39;49m\u001b[38;5;124;43mlongitude\u001b[39;49m\u001b[38;5;124;43m'\u001b[39;49m\u001b[43m]\u001b[49m\u001b[43m]\u001b[49m\u001b[43m,\u001b[49m\u001b[43m \u001b[49m\u001b[38;5;241;43m10\u001b[39;49m\u001b[43m)\u001b[49m)\n",
      "File \u001b[0;32m/home/wieczorek/utils.py:55\u001b[0m, in \u001b[0;36mnearest_neighbour\u001b[0;34m(asc_cords_and_id, dsc_cords_list_with_ids, n_count)\u001b[0m\n\u001b[1;32m     51\u001b[0m small_idx \u001b[38;5;241m=\u001b[39m \u001b[38;5;241m-\u001b[39m\u001b[38;5;241m1\u001b[39m\n\u001b[1;32m     53\u001b[0m \u001b[38;5;28;01mfor\u001b[39;00m idx, dsc \u001b[38;5;129;01min\u001b[39;00m dsc_cords_list_with_ids\u001b[38;5;241m.\u001b[39miterrows():\n\u001b[1;32m     54\u001b[0m     \u001b[38;5;66;03m# Calculate distance\u001b[39;00m\n\u001b[0;32m---> 55\u001b[0m     c_dist \u001b[38;5;241m=\u001b[39m euclidean_distance(asc_cords_and_id[\u001b[38;5;241m0\u001b[39m], \u001b[43mdsc\u001b[49m\u001b[43m[\u001b[49m\u001b[38;5;124;43m'\u001b[39;49m\u001b[38;5;124;43mlongitude\u001b[39;49m\u001b[38;5;124;43m'\u001b[39;49m\u001b[43m]\u001b[49m, asc_cords_and_id[\u001b[38;5;241m1\u001b[39m], dsc[\u001b[38;5;124m'\u001b[39m\u001b[38;5;124mlatitude\u001b[39m\u001b[38;5;124m'\u001b[39m])\n\u001b[1;32m     57\u001b[0m     \u001b[38;5;66;03m# Check if this distance is smaller than the current smallest distance\u001b[39;00m\n\u001b[1;32m     58\u001b[0m     \u001b[38;5;28;01mif\u001b[39;00m c_dist \u001b[38;5;241m<\u001b[39m dist \u001b[38;5;129;01mand\u001b[39;00m idx \u001b[38;5;129;01mnot\u001b[39;00m \u001b[38;5;129;01min\u001b[39;00m nn:\n",
      "File \u001b[0;32m/home/wieczorek/venv/lib/python3.10/site-packages/pandas/core/series.py:1121\u001b[0m, in \u001b[0;36mSeries.__getitem__\u001b[0;34m(self, key)\u001b[0m\n\u001b[1;32m   1118\u001b[0m     \u001b[38;5;28;01mreturn\u001b[39;00m \u001b[38;5;28mself\u001b[39m\u001b[38;5;241m.\u001b[39m_values[key]\n\u001b[1;32m   1120\u001b[0m \u001b[38;5;28;01melif\u001b[39;00m key_is_scalar:\n\u001b[0;32m-> 1121\u001b[0m     \u001b[38;5;28;01mreturn\u001b[39;00m \u001b[38;5;28;43mself\u001b[39;49m\u001b[38;5;241;43m.\u001b[39;49m\u001b[43m_get_value\u001b[49m\u001b[43m(\u001b[49m\u001b[43mkey\u001b[49m\u001b[43m)\u001b[49m\n\u001b[1;32m   1123\u001b[0m \u001b[38;5;66;03m# Convert generator to list before going through hashable part\u001b[39;00m\n\u001b[1;32m   1124\u001b[0m \u001b[38;5;66;03m# (We will iterate through the generator there to check for slices)\u001b[39;00m\n\u001b[1;32m   1125\u001b[0m \u001b[38;5;28;01mif\u001b[39;00m is_iterator(key):\n",
      "File \u001b[0;32m/home/wieczorek/venv/lib/python3.10/site-packages/pandas/core/series.py:1237\u001b[0m, in \u001b[0;36mSeries._get_value\u001b[0;34m(self, label, takeable)\u001b[0m\n\u001b[1;32m   1234\u001b[0m     \u001b[38;5;28;01mreturn\u001b[39;00m \u001b[38;5;28mself\u001b[39m\u001b[38;5;241m.\u001b[39m_values[label]\n\u001b[1;32m   1236\u001b[0m \u001b[38;5;66;03m# Similar to Index.get_value, but we do not fall back to positional\u001b[39;00m\n\u001b[0;32m-> 1237\u001b[0m loc \u001b[38;5;241m=\u001b[39m \u001b[38;5;28;43mself\u001b[39;49m\u001b[38;5;241;43m.\u001b[39;49m\u001b[43mindex\u001b[49m\u001b[38;5;241;43m.\u001b[39;49m\u001b[43mget_loc\u001b[49m\u001b[43m(\u001b[49m\u001b[43mlabel\u001b[49m\u001b[43m)\u001b[49m\n\u001b[1;32m   1239\u001b[0m \u001b[38;5;28;01mif\u001b[39;00m is_integer(loc):\n\u001b[1;32m   1240\u001b[0m     \u001b[38;5;28;01mreturn\u001b[39;00m \u001b[38;5;28mself\u001b[39m\u001b[38;5;241m.\u001b[39m_values[loc]\n",
      "File \u001b[0;32m/home/wieczorek/venv/lib/python3.10/site-packages/pandas/core/indexes/base.py:3803\u001b[0m, in \u001b[0;36mIndex.get_loc\u001b[0;34m(self, key)\u001b[0m\n\u001b[1;32m   3777\u001b[0m \u001b[38;5;28;01mdef\u001b[39;00m \u001b[38;5;21mget_loc\u001b[39m(\u001b[38;5;28mself\u001b[39m, key):\n\u001b[1;32m   3778\u001b[0m \u001b[38;5;250m    \u001b[39m\u001b[38;5;124;03m\"\"\"\u001b[39;00m\n\u001b[1;32m   3779\u001b[0m \u001b[38;5;124;03m    Get integer location, slice or boolean mask for requested label.\u001b[39;00m\n\u001b[1;32m   3780\u001b[0m \n\u001b[0;32m   (...)\u001b[0m\n\u001b[1;32m   3801\u001b[0m \u001b[38;5;124;03m    array([False,  True, False,  True])\u001b[39;00m\n\u001b[1;32m   3802\u001b[0m \u001b[38;5;124;03m    \"\"\"\u001b[39;00m\n\u001b[0;32m-> 3803\u001b[0m     casted_key \u001b[38;5;241m=\u001b[39m \u001b[38;5;28;43mself\u001b[39;49m\u001b[38;5;241;43m.\u001b[39;49m\u001b[43m_maybe_cast_indexer\u001b[49m\u001b[43m(\u001b[49m\u001b[43mkey\u001b[49m\u001b[43m)\u001b[49m\n\u001b[1;32m   3804\u001b[0m     \u001b[38;5;28;01mtry\u001b[39;00m:\n\u001b[1;32m   3805\u001b[0m         \u001b[38;5;28;01mreturn\u001b[39;00m \u001b[38;5;28mself\u001b[39m\u001b[38;5;241m.\u001b[39m_engine\u001b[38;5;241m.\u001b[39mget_loc(casted_key)\n",
      "\u001b[0;31mKeyboardInterrupt\u001b[0m: "
     ]
    }
   ],
   "source": [
    "#incidence_angle,track_angle,los_east,los_north,los_up\n",
    "\n",
    "import numpy as np\n",
    "import pandas as pd\n",
    "from utils import *\n",
    "asc_df = pd.read_csv(\"/home/wieczorek/data/EGMS_L2b_102_0293_IW3_VV_2018_2022_1.csv\", nrows = 1000)\n",
    "dsc_df = pd.read_csv(\"/home/wieczorek/data/EGMS_L2b_153_0779_IW2_VV_2018_2022_1.csv\", nrows = 1000)\n",
    "\n",
    "asc_cols = get_date_columns(asc_df.columns)\n",
    "dsc_cols = get_date_columns(dsc_df.columns)\n",
    "matching_dates = match_dates(asc_cols, dsc_cols, 6)\n",
    "\n",
    "for idx, asc in asc_df.iterrows():\n",
    "    asc_tuple = (asc['latitude'], asc['longitude'])\n",
    "    print(nearest_neighbour(asc_tuple, dsc_df[['pid', 'latitude', 'longitude']], 10))\n",
    "         \n",
    "\n"
   ]
  }
 ],
 "metadata": {
  "kernelspec": {
   "display_name": "venv",
   "language": "python",
   "name": "python3"
  },
  "language_info": {
   "codemirror_mode": {
    "name": "ipython",
    "version": 3
   },
   "file_extension": ".py",
   "mimetype": "text/x-python",
   "name": "python",
   "nbconvert_exporter": "python",
   "pygments_lexer": "ipython3",
   "version": "3.10.12"
  }
 },
 "nbformat": 4,
 "nbformat_minor": 2
}
