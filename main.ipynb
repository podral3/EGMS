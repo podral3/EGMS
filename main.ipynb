{
 "cells": [
  {
   "cell_type": "code",
   "execution_count": null,
   "metadata": {},
   "outputs": [
    {
     "name": "stdout",
     "output_type": "stream",
     "text": [
      "20150213   -9.2\n",
      "dtype: float64\n"
     ]
    }
   ],
   "source": [
    "#incidence_angle,track_angle,los_east,los_north,los_up\n",
    "\n",
    "import numpy as np\n",
    "import pandas as pd\n",
    "from utils import *\n",
    "asc_df = pd.read_csv(\"/home/EGMS/data/102_100.csv\", nrows = 100)\n",
    "dsc_df = pd.read_csv(\"/home/EGMS/data/153_100.csv\", nrows = 100)\n",
    "\n",
    "asc_cols = get_date_columns(asc_df.columns)\n",
    "dsc_cols = get_date_columns(dsc_df.columns)\n",
    "matching_dates = match_dates(asc_cols, dsc_cols, 6)\n",
    "\n",
    "for idx, asc in asc_df.iterrows():\n",
    "    asc_tuple = (asc['latitude'], asc['longitude'])\n",
    "    nn_idx = nearest_neighbour(asc_tuple, dsc_df[['pid', 'latitude', 'longitude']], 2)\n",
    "    nn_points = dsc_df.iloc[nn_idx]\n",
    "    for asc_date in matching_dates: \n",
    "        dsc_dates = matching_dates[asc_date]\n",
    "        print(asc_date, nn_points[dsc_dates].mean())\n",
    "        break\n",
    "    break\n",
    "         \n",
    "\n"
   ]
  }
 ],
 "metadata": {
  "kernelspec": {
   "display_name": "venv",
   "language": "python",
   "name": "python3"
  },
  "language_info": {
   "codemirror_mode": {
    "name": "ipython",
    "version": 3
   },
   "file_extension": ".py",
   "mimetype": "text/x-python",
   "name": "python",
   "nbconvert_exporter": "python",
   "pygments_lexer": "ipython3",
   "version": "3.10.12"
  }
 },
 "nbformat": 4,
 "nbformat_minor": 2
}
